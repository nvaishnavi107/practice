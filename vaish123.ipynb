{
 "cells": [
  {
   "cell_type": "code",
   "execution_count": 1,
   "metadata": {},
   "outputs": [],
   "source": [
    "import pandas as pd"
   ]
  },
  {
   "cell_type": "code",
   "execution_count": 2,
   "metadata": {},
   "outputs": [],
   "source": [
    "# Load datasets\n",
    "customers = pd.read_csv(r\"C:\\Users\\Administrator\\Downloads\\156c0733-d225-4b76-a984-3ed5e19eb16d_83d04ac6-cb74-4a96-a06a-e0d5442aa126_customers.csv\")\n",
    "orders = pd.read_csv(r\"C:\\Users\\Administrator\\Downloads\\419f8355-6271-44cc-a20b-fea8bd241428_83d04ac6-cb74-4a96-a06a-e0d5442aa126_orders.csv\")\n",
    "transactions = pd.read_csv(r\"C:\\Users\\Administrator\\Downloads\\422ceab9-b775-4f4a-8a04-066006bf204b_83d04ac6-cb74-4a96-a06a-e0d5442aa126_transactions.csv\")"
   ]
  },
  {
   "cell_type": "code",
   "execution_count": 3,
   "metadata": {},
   "outputs": [],
   "source": [
    "# Update the high-value transaction threshold\n",
    "high_value_threshold = 250\n"
   ]
  },
  {
   "cell_type": "code",
   "execution_count": 4,
   "metadata": {},
   "outputs": [],
   "source": [
    "merged_data=pd.merge(transactions,orders,on='order_id')\n",
    "merged_data=pd.merge(merged_data,customers,on='customer_id')\n",
    "# Filter orders with high-value transactions (sales > 250)\n",
    "\n",
    " "
   ]
  },
  {
   "cell_type": "code",
   "execution_count": 5,
   "metadata": {},
   "outputs": [],
   "source": [
    "high_value_transactions = merged_data[merged_data['sales'] > high_value_threshold]"
   ]
  },
  {
   "cell_type": "code",
   "execution_count": 6,
   "metadata": {},
   "outputs": [
    {
     "name": "stdout",
     "output_type": "stream",
     "text": [
      "            order_id customer_id    sales\n",
      "0     CA-2016-152156    JB-15925  261.960\n",
      "1     CA-2016-152156    JB-15925  731.940\n",
      "6     CA-2014-124730    JB-15925  279.960\n",
      "19    CA-2016-114104    NP-18670  944.930\n",
      "25    CA-2017-168389    NP-18670  721.875\n",
      "...              ...         ...      ...\n",
      "9788  US-2016-142685    JS-15595  835.170\n",
      "9797  CA-2014-124618    JS-15595  479.984\n",
      "9808  CA-2017-165008    MV-18190  295.056\n",
      "9811  CA-2017-118003    MV-18190  302.940\n",
      "9815  US-2015-100069    MV-18190  269.980\n",
      "\n",
      "[2155 rows x 3 columns]\n"
     ]
    }
   ],
   "source": [
    "result_df=high_value_transactions[['order_id','customer_id','sales']]\n",
    "print(result_df)"
   ]
  },
  {
   "cell_type": "code",
   "execution_count": 7,
   "metadata": {},
   "outputs": [
    {
     "name": "stdout",
     "output_type": "stream",
     "text": [
      "     customer_id   customer_name    sales\n",
      "0       JB-15925  Joni Blumstein  261.960\n",
      "1       JB-15925  Joni Blumstein  731.940\n",
      "6       JB-15925  Joni Blumstein  279.960\n",
      "19      NP-18670      Nora Paige  944.930\n",
      "25      NP-18670      Nora Paige  721.875\n",
      "...          ...             ...      ...\n",
      "9788    JS-15595  Jill Stevenson  835.170\n",
      "9797    JS-15595  Jill Stevenson  479.984\n",
      "9808    MV-18190  Mike Vittorini  295.056\n",
      "9811    MV-18190  Mike Vittorini  302.940\n",
      "9815    MV-18190  Mike Vittorini  269.980\n",
      "\n",
      "[2155 rows x 3 columns]\n"
     ]
    }
   ],
   "source": [
    "result_df1 = high_value_transactions[['customer_id','customer_name','sales']]\n",
    "print(result_df1)"
   ]
  },
  {
   "cell_type": "code",
   "execution_count": 8,
   "metadata": {},
   "outputs": [],
   "source": [
    "# Replace null values in customer_date\n",
    "\n",
    " \n",
    "\n",
    "merged_data['order_delivered_customer_date'] = merged_data['order_delivered_customer_date'].fillna('1970-01-01')\n",
    "\n",
    " \n",
    "\n",
    " \n",
    "\n",
    "# Filter high-value transactions (sales amount > threshold) and non-null customer_date\n",
    "\n",
    " \n",
    "\n",
    "high_value_orders = merged_data[(merged_data['sales'] > 250) & (merged_data['order_delivered_customer_date'].notnull())]\n",
    "\n",
    " "
   ]
  },
  {
   "cell_type": "code",
   "execution_count": 9,
   "metadata": {},
   "outputs": [
    {
     "name": "stderr",
     "output_type": "stream",
     "text": [
      "C:\\Users\\Administrator\\AppData\\Local\\Temp\\2\\ipykernel_2184\\2551206969.py:1: UserWarning: The argument 'infer_datetime_format' is deprecated and will be removed in a future version. A strict version of it is now the default, see https://pandas.pydata.org/pdeps/0004-consistent-to-datetime-parsing.html. You can safely remove this argument.\n",
      "  high_value_orders['order_delivered_customer_date'] = pd.to_datetime(high_value_orders['order_delivered_customer_date'], errors='coerce', infer_datetime_format=True)\n",
      "C:\\Users\\Administrator\\AppData\\Local\\Temp\\2\\ipykernel_2184\\2551206969.py:1: SettingWithCopyWarning: \n",
      "A value is trying to be set on a copy of a slice from a DataFrame.\n",
      "Try using .loc[row_indexer,col_indexer] = value instead\n",
      "\n",
      "See the caveats in the documentation: https://pandas.pydata.org/pandas-docs/stable/user_guide/indexing.html#returning-a-view-versus-a-copy\n",
      "  high_value_orders['order_delivered_customer_date'] = pd.to_datetime(high_value_orders['order_delivered_customer_date'], errors='coerce', infer_datetime_format=True)\n",
      "C:\\Users\\Administrator\\AppData\\Local\\Temp\\2\\ipykernel_2184\\2551206969.py:5: SettingWithCopyWarning: \n",
      "A value is trying to be set on a copy of a slice from a DataFrame.\n",
      "Try using .loc[row_indexer,col_indexer] = value instead\n",
      "\n",
      "See the caveats in the documentation: https://pandas.pydata.org/pandas-docs/stable/user_guide/indexing.html#returning-a-view-versus-a-copy\n",
      "  high_value_orders['month_year'] = high_value_orders['order_delivered_customer_date'].dt.to_period(\"M\")\n"
     ]
    }
   ],
   "source": [
    "high_value_orders['order_delivered_customer_date'] = pd.to_datetime(high_value_orders['order_delivered_customer_date'], errors='coerce', infer_datetime_format=True)\n",
    "\n",
    " \n",
    "\n",
    "high_value_orders['month_year'] = high_value_orders['order_delivered_customer_date'].dt.to_period(\"M\")\n",
    "# Create a DataFrame with order_id, customer_id, sales_amount, and month_year for high-value transactions"
   ]
  },
  {
   "cell_type": "code",
   "execution_count": 10,
   "metadata": {},
   "outputs": [
    {
     "name": "stdout",
     "output_type": "stream",
     "text": [
      "            order_id customer_id    sales month_year\n",
      "0     CA-2016-152156    JB-15925  261.960    2018-01\n",
      "1     CA-2016-152156    JB-15925  731.940    2018-01\n",
      "6     CA-2014-124730    JB-15925  279.960    2017-09\n",
      "19    CA-2016-114104    NP-18670  944.930    2018-06\n",
      "25    CA-2017-168389    NP-18670  721.875    2017-10\n",
      "...              ...         ...      ...        ...\n",
      "9788  US-2016-142685    JS-15595  835.170    2017-10\n",
      "9797  CA-2014-124618    JS-15595  479.984    2018-08\n",
      "9808  CA-2017-165008    MV-18190  295.056    2018-01\n",
      "9811  CA-2017-118003    MV-18190  302.940    2018-05\n",
      "9815  US-2015-100069    MV-18190  269.980    2018-01\n",
      "\n",
      "[2155 rows x 4 columns]\n"
     ]
    }
   ],
   "source": [
    "result_df = high_value_orders[['order_id', 'customer_id', 'sales', 'month_year']]\n",
    "\n",
    " \n",
    "\n",
    "# Display the result in tabular format\n",
    "\n",
    " \n",
    "\n",
    "print(result_df)"
   ]
  },
  {
   "cell_type": "code",
   "execution_count": null,
   "metadata": {},
   "outputs": [],
   "source": []
  },
  {
   "cell_type": "markdown",
   "metadata": {},
   "source": [
    "# GIT COMMANDS USED:\n",
    "## 1.$ git clone link\n",
    "## 2.$cd practice\n",
    "## 3. $git status \n",
    "## 4. $ git add vaish123.ipynb\n",
    "## 5. $ git config --global user.email \"\"\n",
    "## 6. $ git config --global user.name \"\"\n",
    "## 7.$git commit -m \"\" "
   ]
  }
 ],
 "metadata": {
  "kernelspec": {
   "display_name": "Python 3",
   "language": "python",
   "name": "python3"
  },
  "language_info": {
   "codemirror_mode": {
    "name": "ipython",
    "version": 3
   },
   "file_extension": ".py",
   "mimetype": "text/x-python",
   "name": "python",
   "nbconvert_exporter": "python",
   "pygments_lexer": "ipython3",
   "version": "3.10.6"
  }
 },
 "nbformat": 4,
 "nbformat_minor": 2
}
